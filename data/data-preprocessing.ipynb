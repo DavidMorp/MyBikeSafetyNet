{
 "cells": [
  {
   "cell_type": "code",
   "execution_count": 1,
   "metadata": {
    "trusted": true
   },
   "outputs": [
    {
     "data": {
      "text/html": [
       "<div>\n<style scoped>\n    .dataframe tbody tr th:only-of-type {\n        vertical-align: middle;\n    }\n\n    .dataframe tbody tr th {\n        vertical-align: top;\n    }\n\n    .dataframe thead th {\n        text-align: right;\n    }\n</style>\n<table border=\"1\" class=\"dataframe\">\n  <thead>\n    <tr style=\"text-align: right;\">\n      <th></th>\n      <th>Crime ID</th>\n      <th>Month</th>\n      <th>Reported by</th>\n      <th>Falls within</th>\n      <th>Longitude</th>\n      <th>Latitude</th>\n      <th>Location</th>\n      <th>LSOA code</th>\n      <th>LSOA name</th>\n      <th>Crime type</th>\n      <th>Last outcome category</th>\n      <th>Context</th>\n    </tr>\n  </thead>\n  <tbody>\n    <tr>\n      <th>0</th>\n      <td>NaN</td>\n      <td>2015-12</td>\n      <td>Thames Valley Police</td>\n      <td>Thames Valley Police</td>\n      <td>-0.994925</td>\n      <td>51.994101</td>\n      <td>On or near Sandhurst Drive</td>\n      <td>E01017649</td>\n      <td>Aylesbury Vale 001B</td>\n      <td>Anti-social behaviour</td>\n      <td>NaN</td>\n      <td>NaN</td>\n    </tr>\n    <tr>\n      <th>1</th>\n      <td>NaN</td>\n      <td>2015-12</td>\n      <td>Thames Valley Police</td>\n      <td>Thames Valley Police</td>\n      <td>-0.982576</td>\n      <td>51.995955</td>\n      <td>On or near Bourtonville</td>\n      <td>E01017649</td>\n      <td>Aylesbury Vale 001B</td>\n      <td>Anti-social behaviour</td>\n      <td>NaN</td>\n      <td>NaN</td>\n    </tr>\n    <tr>\n      <th>2</th>\n      <td>NaN</td>\n      <td>2015-12</td>\n      <td>Thames Valley Police</td>\n      <td>Thames Valley Police</td>\n      <td>-0.993026</td>\n      <td>51.993068</td>\n      <td>On or near Bluebell Close</td>\n      <td>E01017649</td>\n      <td>Aylesbury Vale 001B</td>\n      <td>Anti-social behaviour</td>\n      <td>NaN</td>\n      <td>NaN</td>\n    </tr>\n    <tr>\n      <th>3</th>\n      <td>NaN</td>\n      <td>2015-12</td>\n      <td>Thames Valley Police</td>\n      <td>Thames Valley Police</td>\n      <td>-0.986293</td>\n      <td>51.997758</td>\n      <td>On or near Ford Street</td>\n      <td>E01017649</td>\n      <td>Aylesbury Vale 001B</td>\n      <td>Anti-social behaviour</td>\n      <td>NaN</td>\n      <td>NaN</td>\n    </tr>\n    <tr>\n      <th>4</th>\n      <td>203028dcbcad850c8408e39245b42471158903b64bd4f7...</td>\n      <td>2015-12</td>\n      <td>Thames Valley Police</td>\n      <td>Thames Valley Police</td>\n      <td>-0.986293</td>\n      <td>51.997758</td>\n      <td>On or near Ford Street</td>\n      <td>E01017649</td>\n      <td>Aylesbury Vale 001B</td>\n      <td>Burglary</td>\n      <td>Investigation complete; no suspect identified</td>\n      <td>NaN</td>\n    </tr>\n  </tbody>\n</table>\n</div>"
      ],
      "text/plain": [
       "                                            Crime ID    Month  \\\n0                                                NaN  2015-12   \n1                                                NaN  2015-12   \n2                                                NaN  2015-12   \n3                                                NaN  2015-12   \n4  203028dcbcad850c8408e39245b42471158903b64bd4f7...  2015-12   \n\n            Reported by          Falls within  Longitude   Latitude  \\\n0  Thames Valley Police  Thames Valley Police  -0.994925  51.994101   \n1  Thames Valley Police  Thames Valley Police  -0.982576  51.995955   \n2  Thames Valley Police  Thames Valley Police  -0.993026  51.993068   \n3  Thames Valley Police  Thames Valley Police  -0.986293  51.997758   \n4  Thames Valley Police  Thames Valley Police  -0.986293  51.997758   \n\n                     Location  LSOA code            LSOA name  \\\n0  On or near Sandhurst Drive  E01017649  Aylesbury Vale 001B   \n1     On or near Bourtonville  E01017649  Aylesbury Vale 001B   \n2   On or near Bluebell Close  E01017649  Aylesbury Vale 001B   \n3      On or near Ford Street  E01017649  Aylesbury Vale 001B   \n4      On or near Ford Street  E01017649  Aylesbury Vale 001B   \n\n              Crime type                          Last outcome category  \\\n0  Anti-social behaviour                                            NaN   \n1  Anti-social behaviour                                            NaN   \n2  Anti-social behaviour                                            NaN   \n3  Anti-social behaviour                                            NaN   \n4               Burglary  Investigation complete; no suspect identified   \n\n   Context  \n0      NaN  \n1      NaN  \n2      NaN  \n3      NaN  \n4      NaN  "
      ]
     },
     "execution_count": 1,
     "metadata": {},
     "output_type": "execute_result"
    }
   ],
   "source": [
    "import pandas as pd\n",
    "\n",
    "df = pd.read_csv(\"./data/2015-12-thames-valley-street.csv\")\n",
    "\n",
    "df.head()"
   ]
  },
  {
   "cell_type": "code",
   "execution_count": 15,
   "metadata": {
    "trusted": true
   },
   "outputs": [],
   "source": [
    "import os\n",
    "\n",
    "files = []\n",
    "for i in os.listdir(\"./data_folder\"):\n",
    "    files.append(\"./data_folder/\" + i)"
   ]
  },
  {
   "cell_type": "code",
   "execution_count": 30,
   "metadata": {
    "trusted": true
   },
   "outputs": [],
   "source": [
    "i = pd.read_csv('./data_folder/2018-05-thames-valley-street.csv')"
   ]
  },
  {
   "cell_type": "code",
   "execution_count": 45,
   "metadata": {
    "trusted": true
   },
   "outputs": [],
   "source": [
    "df = pd.DataFrame({'Month': [],\n",
    "                  'Longitude': [],\n",
    "                  'Latitude': [],\n",
    "                  'Location': [],\n",
    "                  'Crime type': []})"
   ]
  },
  {
   "cell_type": "code",
   "execution_count": 47,
   "metadata": {
    "trusted": true
   },
   "outputs": [],
   "source": [
    "for i in files:\n",
    "    df1 = pd.read_csv(i)\n",
    "    frames = [df,df1]\n",
    "    df = pd.concat(frames)"
   ]
  },
  {
   "cell_type": "code",
   "execution_count": 55,
   "metadata": {
    "trusted": true
   },
   "outputs": [
    {
     "data": {
      "text/html": [
       "<div>\n<style scoped>\n    .dataframe tbody tr th:only-of-type {\n        vertical-align: middle;\n    }\n\n    .dataframe tbody tr th {\n        vertical-align: top;\n    }\n\n    .dataframe thead th {\n        text-align: right;\n    }\n</style>\n<table border=\"1\" class=\"dataframe\">\n  <thead>\n    <tr style=\"text-align: right;\">\n      <th></th>\n      <th>Crime type</th>\n      <th>Latitude</th>\n      <th>Longitude</th>\n      <th>Location</th>\n      <th>Month</th>\n    </tr>\n  </thead>\n  <tbody>\n    <tr>\n      <th>0</th>\n      <td>Anti-social behaviour</td>\n      <td>51.997609</td>\n      <td>-0.979494</td>\n      <td>On or near Mallard Drive</td>\n      <td>2018-08</td>\n    </tr>\n    <tr>\n      <th>1</th>\n      <td>Criminal damage and arson</td>\n      <td>51.995404</td>\n      <td>-0.977083</td>\n      <td>On or near Otters Brook</td>\n      <td>2018-08</td>\n    </tr>\n    <tr>\n      <th>2</th>\n      <td>Other theft</td>\n      <td>51.997317</td>\n      <td>-0.981045</td>\n      <td>On or near Portfield Way</td>\n      <td>2018-08</td>\n    </tr>\n    <tr>\n      <th>3</th>\n      <td>Other theft</td>\n      <td>51.992511</td>\n      <td>-0.941743</td>\n      <td>On or near Parking Area</td>\n      <td>2018-08</td>\n    </tr>\n    <tr>\n      <th>4</th>\n      <td>Violence and sexual offences</td>\n      <td>51.991608</td>\n      <td>-0.973849</td>\n      <td>On or near Wren Close</td>\n      <td>2018-08</td>\n    </tr>\n    <tr>\n      <th>5</th>\n      <td>Anti-social behaviour</td>\n      <td>51.996558</td>\n      <td>-0.983713</td>\n      <td>On or near Poplars Road</td>\n      <td>2018-08</td>\n    </tr>\n    <tr>\n      <th>6</th>\n      <td>Burglary</td>\n      <td>51.997191</td>\n      <td>-0.996750</td>\n      <td>On or near Westfields</td>\n      <td>2018-08</td>\n    </tr>\n    <tr>\n      <th>7</th>\n      <td>Criminal damage and arson</td>\n      <td>51.994583</td>\n      <td>-0.993502</td>\n      <td>On or near Mitre Street</td>\n      <td>2018-08</td>\n    </tr>\n    <tr>\n      <th>8</th>\n      <td>Criminal damage and arson</td>\n      <td>51.994101</td>\n      <td>-0.994925</td>\n      <td>On or near Sandhurst Drive</td>\n      <td>2018-08</td>\n    </tr>\n    <tr>\n      <th>9</th>\n      <td>Criminal damage and arson</td>\n      <td>51.994583</td>\n      <td>-0.993502</td>\n      <td>On or near Mitre Street</td>\n      <td>2018-08</td>\n    </tr>\n    <tr>\n      <th>10</th>\n      <td>Other theft</td>\n      <td>51.996518</td>\n      <td>-0.994740</td>\n      <td>On or near Bath Lane</td>\n      <td>2018-08</td>\n    </tr>\n    <tr>\n      <th>11</th>\n      <td>Possession of weapons</td>\n      <td>51.993480</td>\n      <td>-0.992842</td>\n      <td>On or near Tyrell Close</td>\n      <td>2018-08</td>\n    </tr>\n    <tr>\n      <th>12</th>\n      <td>Public order</td>\n      <td>51.994583</td>\n      <td>-0.993502</td>\n      <td>On or near Mitre Street</td>\n      <td>2018-08</td>\n    </tr>\n    <tr>\n      <th>13</th>\n      <td>Shoplifting</td>\n      <td>51.990008</td>\n      <td>-0.991624</td>\n      <td>On or near Parking Area</td>\n      <td>2018-08</td>\n    </tr>\n    <tr>\n      <th>14</th>\n      <td>Vehicle crime</td>\n      <td>51.993022</td>\n      <td>-0.994950</td>\n      <td>On or near Heather Close</td>\n      <td>2018-08</td>\n    </tr>\n    <tr>\n      <th>15</th>\n      <td>Vehicle crime</td>\n      <td>51.994583</td>\n      <td>-0.993502</td>\n      <td>On or near Mitre Street</td>\n      <td>2018-08</td>\n    </tr>\n    <tr>\n      <th>16</th>\n      <td>Vehicle crime</td>\n      <td>51.994595</td>\n      <td>-0.985433</td>\n      <td>On or near Brookfield Lane</td>\n      <td>2018-08</td>\n    </tr>\n    <tr>\n      <th>17</th>\n      <td>Violence and sexual offences</td>\n      <td>51.998600</td>\n      <td>-0.992188</td>\n      <td>On or near Fishers Field</td>\n      <td>2018-08</td>\n    </tr>\n    <tr>\n      <th>18</th>\n      <td>Violence and sexual offences</td>\n      <td>51.993733</td>\n      <td>-0.994045</td>\n      <td>On or near Cornflower Place</td>\n      <td>2018-08</td>\n    </tr>\n    <tr>\n      <th>19</th>\n      <td>Violence and sexual offences</td>\n      <td>51.993022</td>\n      <td>-0.994950</td>\n      <td>On or near Heather Close</td>\n      <td>2018-08</td>\n    </tr>\n    <tr>\n      <th>20</th>\n      <td>Violence and sexual offences</td>\n      <td>51.998600</td>\n      <td>-0.992188</td>\n      <td>On or near Fishers Field</td>\n      <td>2018-08</td>\n    </tr>\n    <tr>\n      <th>21</th>\n      <td>Violence and sexual offences</td>\n      <td>51.998600</td>\n      <td>-0.992188</td>\n      <td>On or near Fishers Field</td>\n      <td>2018-08</td>\n    </tr>\n    <tr>\n      <th>22</th>\n      <td>Violence and sexual offences</td>\n      <td>51.996257</td>\n      <td>-0.986356</td>\n      <td>On or near Chandos Road</td>\n      <td>2018-08</td>\n    </tr>\n    <tr>\n      <th>23</th>\n      <td>Other crime</td>\n      <td>51.994583</td>\n      <td>-0.993502</td>\n      <td>On or near Mitre Street</td>\n      <td>2018-08</td>\n    </tr>\n    <tr>\n      <th>24</th>\n      <td>Anti-social behaviour</td>\n      <td>51.992541</td>\n      <td>-0.976740</td>\n      <td>On or near Swallow Close</td>\n      <td>2018-08</td>\n    </tr>\n    <tr>\n      <th>25</th>\n      <td>Anti-social behaviour</td>\n      <td>51.992336</td>\n      <td>-0.994615</td>\n      <td>On or near Foxglove Close</td>\n      <td>2018-08</td>\n    </tr>\n    <tr>\n      <th>26</th>\n      <td>Other theft</td>\n      <td>51.990005</td>\n      <td>-0.986993</td>\n      <td>On or near Aris Way</td>\n      <td>2018-08</td>\n    </tr>\n    <tr>\n      <th>27</th>\n      <td>Other theft</td>\n      <td>51.990518</td>\n      <td>-0.979801</td>\n      <td>On or near London Road</td>\n      <td>2018-08</td>\n    </tr>\n    <tr>\n      <th>28</th>\n      <td>Other theft</td>\n      <td>51.990005</td>\n      <td>-0.986993</td>\n      <td>On or near Aris Way</td>\n      <td>2018-08</td>\n    </tr>\n    <tr>\n      <th>29</th>\n      <td>Other theft</td>\n      <td>51.990005</td>\n      <td>-0.986993</td>\n      <td>On or near Aris Way</td>\n      <td>2018-08</td>\n    </tr>\n    <tr>\n      <th>...</th>\n      <td>...</td>\n      <td>...</td>\n      <td>...</td>\n      <td>...</td>\n      <td>...</td>\n    </tr>\n    <tr>\n      <th>532266</th>\n      <td>Violence and sexual offences</td>\n      <td>NaN</td>\n      <td>NaN</td>\n      <td>No Location</td>\n      <td>2018-05</td>\n    </tr>\n    <tr>\n      <th>532267</th>\n      <td>Violence and sexual offences</td>\n      <td>NaN</td>\n      <td>NaN</td>\n      <td>No Location</td>\n      <td>2018-05</td>\n    </tr>\n    <tr>\n      <th>532268</th>\n      <td>Other crime</td>\n      <td>NaN</td>\n      <td>NaN</td>\n      <td>No Location</td>\n      <td>2018-05</td>\n    </tr>\n    <tr>\n      <th>532269</th>\n      <td>Other crime</td>\n      <td>NaN</td>\n      <td>NaN</td>\n      <td>No Location</td>\n      <td>2018-05</td>\n    </tr>\n    <tr>\n      <th>532270</th>\n      <td>Other crime</td>\n      <td>NaN</td>\n      <td>NaN</td>\n      <td>No Location</td>\n      <td>2018-05</td>\n    </tr>\n    <tr>\n      <th>532271</th>\n      <td>Other crime</td>\n      <td>NaN</td>\n      <td>NaN</td>\n      <td>No Location</td>\n      <td>2018-05</td>\n    </tr>\n    <tr>\n      <th>532272</th>\n      <td>Other crime</td>\n      <td>NaN</td>\n      <td>NaN</td>\n      <td>No Location</td>\n      <td>2018-05</td>\n    </tr>\n    <tr>\n      <th>532273</th>\n      <td>Other crime</td>\n      <td>NaN</td>\n      <td>NaN</td>\n      <td>No Location</td>\n      <td>2018-05</td>\n    </tr>\n    <tr>\n      <th>532274</th>\n      <td>Other crime</td>\n      <td>NaN</td>\n      <td>NaN</td>\n      <td>No Location</td>\n      <td>2018-05</td>\n    </tr>\n    <tr>\n      <th>532275</th>\n      <td>Other crime</td>\n      <td>NaN</td>\n      <td>NaN</td>\n      <td>No Location</td>\n      <td>2018-05</td>\n    </tr>\n    <tr>\n      <th>532276</th>\n      <td>Other crime</td>\n      <td>NaN</td>\n      <td>NaN</td>\n      <td>No Location</td>\n      <td>2018-05</td>\n    </tr>\n    <tr>\n      <th>532277</th>\n      <td>Other crime</td>\n      <td>NaN</td>\n      <td>NaN</td>\n      <td>No Location</td>\n      <td>2018-05</td>\n    </tr>\n    <tr>\n      <th>532278</th>\n      <td>Other crime</td>\n      <td>NaN</td>\n      <td>NaN</td>\n      <td>No Location</td>\n      <td>2018-05</td>\n    </tr>\n    <tr>\n      <th>532279</th>\n      <td>Other crime</td>\n      <td>NaN</td>\n      <td>NaN</td>\n      <td>No Location</td>\n      <td>2018-05</td>\n    </tr>\n    <tr>\n      <th>532280</th>\n      <td>Other crime</td>\n      <td>NaN</td>\n      <td>NaN</td>\n      <td>No Location</td>\n      <td>2018-05</td>\n    </tr>\n    <tr>\n      <th>532281</th>\n      <td>Other crime</td>\n      <td>NaN</td>\n      <td>NaN</td>\n      <td>No Location</td>\n      <td>2018-05</td>\n    </tr>\n    <tr>\n      <th>532282</th>\n      <td>Other crime</td>\n      <td>NaN</td>\n      <td>NaN</td>\n      <td>No Location</td>\n      <td>2018-05</td>\n    </tr>\n    <tr>\n      <th>532283</th>\n      <td>Other crime</td>\n      <td>NaN</td>\n      <td>NaN</td>\n      <td>No Location</td>\n      <td>2018-05</td>\n    </tr>\n    <tr>\n      <th>532284</th>\n      <td>Other crime</td>\n      <td>NaN</td>\n      <td>NaN</td>\n      <td>No Location</td>\n      <td>2018-05</td>\n    </tr>\n    <tr>\n      <th>532285</th>\n      <td>Other crime</td>\n      <td>NaN</td>\n      <td>NaN</td>\n      <td>No Location</td>\n      <td>2018-05</td>\n    </tr>\n    <tr>\n      <th>532286</th>\n      <td>Other crime</td>\n      <td>NaN</td>\n      <td>NaN</td>\n      <td>No Location</td>\n      <td>2018-05</td>\n    </tr>\n    <tr>\n      <th>532287</th>\n      <td>Other crime</td>\n      <td>NaN</td>\n      <td>NaN</td>\n      <td>No Location</td>\n      <td>2018-05</td>\n    </tr>\n    <tr>\n      <th>532288</th>\n      <td>Other crime</td>\n      <td>NaN</td>\n      <td>NaN</td>\n      <td>No Location</td>\n      <td>2018-05</td>\n    </tr>\n    <tr>\n      <th>532289</th>\n      <td>Other crime</td>\n      <td>NaN</td>\n      <td>NaN</td>\n      <td>No Location</td>\n      <td>2018-05</td>\n    </tr>\n    <tr>\n      <th>532290</th>\n      <td>Other crime</td>\n      <td>NaN</td>\n      <td>NaN</td>\n      <td>No Location</td>\n      <td>2018-05</td>\n    </tr>\n    <tr>\n      <th>532291</th>\n      <td>Other crime</td>\n      <td>NaN</td>\n      <td>NaN</td>\n      <td>No Location</td>\n      <td>2018-05</td>\n    </tr>\n    <tr>\n      <th>532292</th>\n      <td>Other crime</td>\n      <td>NaN</td>\n      <td>NaN</td>\n      <td>No Location</td>\n      <td>2018-05</td>\n    </tr>\n    <tr>\n      <th>532293</th>\n      <td>Other crime</td>\n      <td>NaN</td>\n      <td>NaN</td>\n      <td>No Location</td>\n      <td>2018-05</td>\n    </tr>\n    <tr>\n      <th>532294</th>\n      <td>Other crime</td>\n      <td>NaN</td>\n      <td>NaN</td>\n      <td>No Location</td>\n      <td>2018-05</td>\n    </tr>\n    <tr>\n      <th>532295</th>\n      <td>Other crime</td>\n      <td>NaN</td>\n      <td>NaN</td>\n      <td>No Location</td>\n      <td>2018-05</td>\n    </tr>\n  </tbody>\n</table>\n<p>532296 rows × 5 columns</p>\n</div>"
      ],
      "text/plain": [
       "                          Crime type   Latitude  Longitude  \\\n0              Anti-social behaviour  51.997609  -0.979494   \n1          Criminal damage and arson  51.995404  -0.977083   \n2                        Other theft  51.997317  -0.981045   \n3                        Other theft  51.992511  -0.941743   \n4       Violence and sexual offences  51.991608  -0.973849   \n5              Anti-social behaviour  51.996558  -0.983713   \n6                           Burglary  51.997191  -0.996750   \n7          Criminal damage and arson  51.994583  -0.993502   \n8          Criminal damage and arson  51.994101  -0.994925   \n9          Criminal damage and arson  51.994583  -0.993502   \n10                       Other theft  51.996518  -0.994740   \n11             Possession of weapons  51.993480  -0.992842   \n12                      Public order  51.994583  -0.993502   \n13                       Shoplifting  51.990008  -0.991624   \n14                     Vehicle crime  51.993022  -0.994950   \n15                     Vehicle crime  51.994583  -0.993502   \n16                     Vehicle crime  51.994595  -0.985433   \n17      Violence and sexual offences  51.998600  -0.992188   \n18      Violence and sexual offences  51.993733  -0.994045   \n19      Violence and sexual offences  51.993022  -0.994950   \n20      Violence and sexual offences  51.998600  -0.992188   \n21      Violence and sexual offences  51.998600  -0.992188   \n22      Violence and sexual offences  51.996257  -0.986356   \n23                       Other crime  51.994583  -0.993502   \n24             Anti-social behaviour  51.992541  -0.976740   \n25             Anti-social behaviour  51.992336  -0.994615   \n26                       Other theft  51.990005  -0.986993   \n27                       Other theft  51.990518  -0.979801   \n28                       Other theft  51.990005  -0.986993   \n29                       Other theft  51.990005  -0.986993   \n...                              ...        ...        ...   \n532266  Violence and sexual offences        NaN        NaN   \n532267  Violence and sexual offences        NaN        NaN   \n532268                   Other crime        NaN        NaN   \n532269                   Other crime        NaN        NaN   \n532270                   Other crime        NaN        NaN   \n532271                   Other crime        NaN        NaN   \n532272                   Other crime        NaN        NaN   \n532273                   Other crime        NaN        NaN   \n532274                   Other crime        NaN        NaN   \n532275                   Other crime        NaN        NaN   \n532276                   Other crime        NaN        NaN   \n532277                   Other crime        NaN        NaN   \n532278                   Other crime        NaN        NaN   \n532279                   Other crime        NaN        NaN   \n532280                   Other crime        NaN        NaN   \n532281                   Other crime        NaN        NaN   \n532282                   Other crime        NaN        NaN   \n532283                   Other crime        NaN        NaN   \n532284                   Other crime        NaN        NaN   \n532285                   Other crime        NaN        NaN   \n532286                   Other crime        NaN        NaN   \n532287                   Other crime        NaN        NaN   \n532288                   Other crime        NaN        NaN   \n532289                   Other crime        NaN        NaN   \n532290                   Other crime        NaN        NaN   \n532291                   Other crime        NaN        NaN   \n532292                   Other crime        NaN        NaN   \n532293                   Other crime        NaN        NaN   \n532294                   Other crime        NaN        NaN   \n532295                   Other crime        NaN        NaN   \n\n                           Location    Month  \n0          On or near Mallard Drive  2018-08  \n1           On or near Otters Brook  2018-08  \n2          On or near Portfield Way  2018-08  \n3           On or near Parking Area  2018-08  \n4             On or near Wren Close  2018-08  \n5           On or near Poplars Road  2018-08  \n6             On or near Westfields  2018-08  \n7           On or near Mitre Street  2018-08  \n8        On or near Sandhurst Drive  2018-08  \n9           On or near Mitre Street  2018-08  \n10             On or near Bath Lane  2018-08  \n11          On or near Tyrell Close  2018-08  \n12          On or near Mitre Street  2018-08  \n13          On or near Parking Area  2018-08  \n14         On or near Heather Close  2018-08  \n15          On or near Mitre Street  2018-08  \n16       On or near Brookfield Lane  2018-08  \n17         On or near Fishers Field  2018-08  \n18      On or near Cornflower Place  2018-08  \n19         On or near Heather Close  2018-08  \n20         On or near Fishers Field  2018-08  \n21         On or near Fishers Field  2018-08  \n22          On or near Chandos Road  2018-08  \n23          On or near Mitre Street  2018-08  \n24         On or near Swallow Close  2018-08  \n25        On or near Foxglove Close  2018-08  \n26              On or near Aris Way  2018-08  \n27           On or near London Road  2018-08  \n28              On or near Aris Way  2018-08  \n29              On or near Aris Way  2018-08  \n...                             ...      ...  \n532266                  No Location  2018-05  \n532267                  No Location  2018-05  \n532268                  No Location  2018-05  \n532269                  No Location  2018-05  \n532270                  No Location  2018-05  \n532271                  No Location  2018-05  \n532272                  No Location  2018-05  \n532273                  No Location  2018-05  \n532274                  No Location  2018-05  \n532275                  No Location  2018-05  \n532276                  No Location  2018-05  \n532277                  No Location  2018-05  \n532278                  No Location  2018-05  \n532279                  No Location  2018-05  \n532280                  No Location  2018-05  \n532281                  No Location  2018-05  \n532282                  No Location  2018-05  \n532283                  No Location  2018-05  \n532284                  No Location  2018-05  \n532285                  No Location  2018-05  \n532286                  No Location  2018-05  \n532287                  No Location  2018-05  \n532288                  No Location  2018-05  \n532289                  No Location  2018-05  \n532290                  No Location  2018-05  \n532291                  No Location  2018-05  \n532292                  No Location  2018-05  \n532293                  No Location  2018-05  \n532294                  No Location  2018-05  \n532295                  No Location  2018-05  \n\n[532296 rows x 5 columns]"
      ]
     },
     "execution_count": 55,
     "metadata": {},
     "output_type": "execute_result"
    }
   ],
   "source": [
    "df = df[['Crime type', 'Latitude','Longitude','Location','Month']]\n",
    "df = df.reset_index(drop=True)\n",
    "df"
   ]
  },
  {
   "cell_type": "code",
   "execution_count": 66,
   "metadata": {
    "trusted": true
   },
   "outputs": [],
   "source": [
    "df1 = df.loc[df['crime_type'] == 'Bicycle theft']\n",
    "\n",
    "\n",
    "df1.to_csv('bike_theft_data.csv')"
   ]
  },
  {
   "cell_type": "code",
   "execution_count": null,
   "metadata": {
    "trusted": true
   },
   "outputs": [],
   "source": [
    ""
   ]
  }
 ],
 "metadata": {
  "kernelspec": {
   "name": "python36",
   "display_name": "Python 3.6",
   "language": "python"
  },
  "language_info": {
   "mimetype": "text/x-python",
   "nbconvert_exporter": "python",
   "name": "python",
   "pygments_lexer": "ipython3",
   "version": "3.6.6",
   "file_extension": ".py",
   "codemirror_mode": {
    "version": 3,
    "name": "ipython"
   }
  }
 },
 "nbformat": 4,
 "nbformat_minor": 2
}
