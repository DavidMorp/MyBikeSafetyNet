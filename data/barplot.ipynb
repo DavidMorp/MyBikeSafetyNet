{
  "cells": [
    {
      "metadata": {
        "trusted": true
      },
      "cell_type": "code",
      "source": "import pandas as pd\n\ndf = pd.read_csv(\"./data/2015-12-thames-valley-street.csv\")\n\ndf.head()",
      "execution_count": 1,
      "outputs": [
        {
          "output_type": "execute_result",
          "execution_count": 1,
          "data": {
            "text/html": "<div>\n<style scoped>\n    .dataframe tbody tr th:only-of-type {\n        vertical-align: middle;\n    }\n\n    .dataframe tbody tr th {\n        vertical-align: top;\n    }\n\n    .dataframe thead th {\n        text-align: right;\n    }\n</style>\n<table border=\"1\" class=\"dataframe\">\n  <thead>\n    <tr style=\"text-align: right;\">\n      <th></th>\n      <th>Crime ID</th>\n      <th>Month</th>\n      <th>Reported by</th>\n      <th>Falls within</th>\n      <th>Longitude</th>\n      <th>Latitude</th>\n      <th>Location</th>\n      <th>LSOA code</th>\n      <th>LSOA name</th>\n      <th>Crime type</th>\n      <th>Last outcome category</th>\n      <th>Context</th>\n    </tr>\n  </thead>\n  <tbody>\n    <tr>\n      <th>0</th>\n      <td>NaN</td>\n      <td>2015-12</td>\n      <td>Thames Valley Police</td>\n      <td>Thames Valley Police</td>\n      <td>-0.994925</td>\n      <td>51.994101</td>\n      <td>On or near Sandhurst Drive</td>\n      <td>E01017649</td>\n      <td>Aylesbury Vale 001B</td>\n      <td>Anti-social behaviour</td>\n      <td>NaN</td>\n      <td>NaN</td>\n    </tr>\n    <tr>\n      <th>1</th>\n      <td>NaN</td>\n      <td>2015-12</td>\n      <td>Thames Valley Police</td>\n      <td>Thames Valley Police</td>\n      <td>-0.982576</td>\n      <td>51.995955</td>\n      <td>On or near Bourtonville</td>\n      <td>E01017649</td>\n      <td>Aylesbury Vale 001B</td>\n      <td>Anti-social behaviour</td>\n      <td>NaN</td>\n      <td>NaN</td>\n    </tr>\n    <tr>\n      <th>2</th>\n      <td>NaN</td>\n      <td>2015-12</td>\n      <td>Thames Valley Police</td>\n      <td>Thames Valley Police</td>\n      <td>-0.993026</td>\n      <td>51.993068</td>\n      <td>On or near Bluebell Close</td>\n      <td>E01017649</td>\n      <td>Aylesbury Vale 001B</td>\n      <td>Anti-social behaviour</td>\n      <td>NaN</td>\n      <td>NaN</td>\n    </tr>\n    <tr>\n      <th>3</th>\n      <td>NaN</td>\n      <td>2015-12</td>\n      <td>Thames Valley Police</td>\n      <td>Thames Valley Police</td>\n      <td>-0.986293</td>\n      <td>51.997758</td>\n      <td>On or near Ford Street</td>\n      <td>E01017649</td>\n      <td>Aylesbury Vale 001B</td>\n      <td>Anti-social behaviour</td>\n      <td>NaN</td>\n      <td>NaN</td>\n    </tr>\n    <tr>\n      <th>4</th>\n      <td>203028dcbcad850c8408e39245b42471158903b64bd4f7...</td>\n      <td>2015-12</td>\n      <td>Thames Valley Police</td>\n      <td>Thames Valley Police</td>\n      <td>-0.986293</td>\n      <td>51.997758</td>\n      <td>On or near Ford Street</td>\n      <td>E01017649</td>\n      <td>Aylesbury Vale 001B</td>\n      <td>Burglary</td>\n      <td>Investigation complete; no suspect identified</td>\n      <td>NaN</td>\n    </tr>\n  </tbody>\n</table>\n</div>",
            "text/plain": "                                            Crime ID    Month  \\\n0                                                NaN  2015-12   \n1                                                NaN  2015-12   \n2                                                NaN  2015-12   \n3                                                NaN  2015-12   \n4  203028dcbcad850c8408e39245b42471158903b64bd4f7...  2015-12   \n\n            Reported by          Falls within  Longitude   Latitude  \\\n0  Thames Valley Police  Thames Valley Police  -0.994925  51.994101   \n1  Thames Valley Police  Thames Valley Police  -0.982576  51.995955   \n2  Thames Valley Police  Thames Valley Police  -0.993026  51.993068   \n3  Thames Valley Police  Thames Valley Police  -0.986293  51.997758   \n4  Thames Valley Police  Thames Valley Police  -0.986293  51.997758   \n\n                     Location  LSOA code            LSOA name  \\\n0  On or near Sandhurst Drive  E01017649  Aylesbury Vale 001B   \n1     On or near Bourtonville  E01017649  Aylesbury Vale 001B   \n2   On or near Bluebell Close  E01017649  Aylesbury Vale 001B   \n3      On or near Ford Street  E01017649  Aylesbury Vale 001B   \n4      On or near Ford Street  E01017649  Aylesbury Vale 001B   \n\n              Crime type                          Last outcome category  \\\n0  Anti-social behaviour                                            NaN   \n1  Anti-social behaviour                                            NaN   \n2  Anti-social behaviour                                            NaN   \n3  Anti-social behaviour                                            NaN   \n4               Burglary  Investigation complete; no suspect identified   \n\n   Context  \n0      NaN  \n1      NaN  \n2      NaN  \n3      NaN  \n4      NaN  "
          },
          "metadata": {}
        }
      ]
    },
    {
      "metadata": {
        "trusted": true
      },
      "cell_type": "code",
      "source": "import os\n\nfiles = []\nfor i in os.listdir(\"./data\"):\n    files.append(\"./data/\" + i)",
      "execution_count": 2,
      "outputs": []
    },
    {
      "metadata": {
        "trusted": true
      },
      "cell_type": "code",
      "source": "df = pd.DataFrame({'Month': [],\n                  'Longitude': [],\n                  'Latitude': [],\n                  'Location': [],\n                  'Crime type': []})",
      "execution_count": 3,
      "outputs": []
    },
    {
      "metadata": {
        "trusted": true
      },
      "cell_type": "code",
      "source": "files.sort()\nfiles",
      "execution_count": 4,
      "outputs": [
        {
          "output_type": "execute_result",
          "execution_count": 4,
          "data": {
            "text/plain": "['./data/2015-10-thames-valley-street.csv',\n './data/2015-11-thames-valley-street.csv',\n './data/2015-12-thames-valley-street.csv',\n './data/2016-01-thames-valley-street.csv',\n './data/2016-02-thames-valley-street.csv',\n './data/2016-03-thames-valley-street.csv',\n './data/2016-04-thames-valley-street.csv',\n './data/2016-05-thames-valley-street.csv',\n './data/2016-06-thames-valley-street.csv',\n './data/2016-07-thames-valley-street.csv',\n './data/2016-08-thames-valley-street.csv',\n './data/2016-09-thames-valley-street.csv',\n './data/2016-10-thames-valley-street.csv',\n './data/2016-11-thames-valley-street.csv',\n './data/2016-12-thames-valley-street.csv',\n './data/2017-01-thames-valley-street.csv',\n './data/2017-02-thames-valley-street.csv',\n './data/2017-03-thames-valley-street.csv',\n './data/2017-04-thames-valley-street.csv',\n './data/2017-05-thames-valley-street.csv',\n './data/2017-06-thames-valley-street.csv',\n './data/2017-07-thames-valley-street.csv',\n './data/2017-08-thames-valley-street.csv',\n './data/2017-09-thames-valley-street.csv',\n './data/2017-10-thames-valley-street.csv',\n './data/2017-11-thames-valley-street.csv',\n './data/2017-12-thames-valley-street.csv',\n './data/2018-01-thames-valley-street.csv',\n './data/2018-02-thames-valley-street.csv',\n './data/2018-03-thames-valley-street.csv',\n './data/2018-04-thames-valley-street.csv',\n './data/2018-05-thames-valley-street.csv',\n './data/2018-06-thames-valley-street.csv',\n './data/2018-07-thames-valley-street.csv',\n './data/2018-08-thames-valley-street.csv',\n './data/2018-09-thames-valley-street.csv']"
          },
          "metadata": {}
        }
      ]
    },
    {
      "metadata": {
        "trusted": true
      },
      "cell_type": "code",
      "source": "arr1=[]\narr2 = []\nb = 1\n\nfor i in files:\n    df = pd.read_csv(i)\n    l = len(df.loc[df['Crime type'] == 'Bicycle theft'])\n    arr1.append(l)\n    arr2.append(b)\n    b+=1",
      "execution_count": 47,
      "outputs": []
    },
    {
      "metadata": {
        "trusted": true
      },
      "cell_type": "code",
      "source": "import numpy as np\nc = np.column_stack((np.array(arr1),np.array(arr2)))\nc = c[0:35]\nc",
      "execution_count": 48,
      "outputs": [
        {
          "output_type": "execute_result",
          "execution_count": 48,
          "data": {
            "text/plain": "array([[550,   1],\n       [383,   2],\n       [344,   3],\n       [272,   4],\n       [260,   5],\n       [293,   6],\n       [347,   7],\n       [419,   8],\n       [482,   9],\n       [490,  10],\n       [519,  11],\n       [589,  12],\n       [732,  13],\n       [570,  14],\n       [336,  15],\n       [324,  16],\n       [377,  17],\n       [507,  18],\n       [627,  19],\n       [709,  20],\n       [671,  21],\n       [823,  22],\n       [716,  23],\n       [790,  24],\n       [774,  25],\n       [562,  26],\n       [321,  27],\n       [324,  28],\n       [287,  29],\n       [278,  30],\n       [397,  31],\n       [545,  32],\n       [551,  33],\n       [629,  34],\n       [561,  35]])"
          },
          "metadata": {}
        }
      ]
    },
    {
      "metadata": {
        "trusted": true
      },
      "cell_type": "code",
      "source": "import matplotlib.pyplot as plt\n\nplt.bar(c[:, 1], c[:, 0])",
      "execution_count": 49,
      "outputs": [
        {
          "output_type": "execute_result",
          "execution_count": 49,
          "data": {
            "text/plain": "<BarContainer object of 35 artists>"
          },
          "metadata": {}
        },
        {
          "output_type": "display_data",
          "data": {
            "image/png": "[encoded data removed]",
            "text/plain": "<Figure size 432x288 with 1 Axes>"
          },
          "metadata": {
            "needs_background": "light"
          }
        }
      ]
    }
  ],
  "metadata": {
    "kernelspec": {
      "name": "python36",
      "display_name": "Python 3.6",
      "language": "python"
    },
    "language_info": {
      "mimetype": "text/x-python",
      "nbconvert_exporter": "python",
      "name": "python",
      "pygments_lexer": "ipython3",
      "version": "3.6.6",
      "file_extension": ".py",
      "codemirror_mode": {
        "version": 3,
        "name": "ipython"
      }
    }
  },
  "nbformat": 4,
  "nbformat_minor": 2
}